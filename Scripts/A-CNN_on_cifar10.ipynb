{
 "cells": [
  {
   "cell_type": "markdown",
   "metadata": {},
   "source": [
    "# In this script I am creating an advanced model named A-CNN (Absolute-CNN) for the processed dataset. The Absolute CNN is a model that is built upon the AANN model -> https://openreview.net/pdf?id=rkhxwltab\n",
    "-------------------------------------------------------------------------------------------------------------------\n",
    "# Technology used: Tensorflow"
   ]
  },
  {
   "cell_type": "markdown",
   "metadata": {},
   "source": [
    "## I am using the Cifar-10 dataset for this script"
   ]
  },
  {
   "cell_type": "markdown",
   "metadata": {},
   "source": [
    "### Start with importing the usual cells for my tasks"
   ]
  },
  {
   "cell_type": "code",
   "execution_count": 1,
   "metadata": {
    "collapsed": true
   },
   "outputs": [],
   "source": [
    "# packages used for processing: \n",
    "import matplotlib.pyplot as plt # for visualization\n",
    "import numpy as np\n",
    "\n",
    "# for pickling the data\n",
    "import cPickle as pickle\n",
    "\n",
    "# THE TensorFlow framework\n",
    "import tensorflow as tf\n",
    "\n",
    "# for operating system related stuff\n",
    "import os\n",
    "import sys # for memory usage of objects\n",
    "from subprocess import check_output\n",
    "\n",
    "# to plot the images inline\n",
    "%matplotlib inline"
   ]
  },
  {
   "cell_type": "code",
   "execution_count": 2,
   "metadata": {
    "collapsed": true
   },
   "outputs": [],
   "source": [
    "# Input data files are available in the \"../Data/\" directory.\n",
    "\n",
    "def exec_command(cmd):\n",
    "    '''\n",
    "        function to execute a shell command and see it's \n",
    "        output in the python console\n",
    "        @params\n",
    "        cmd = the command to be executed along with the arguments\n",
    "              ex: ['ls', '../input']\n",
    "    '''\n",
    "    print(check_output(cmd).decode(\"utf8\"))"
   ]
  },
  {
   "cell_type": "code",
   "execution_count": 3,
   "metadata": {},
   "outputs": [
    {
     "name": "stdout",
     "output_type": "stream",
     "text": [
      "Data\n",
      "LICENSE\n",
      "Localizer\n",
      "Models\n",
      "README.md\n",
      "Scripts\n",
      "\n"
     ]
    }
   ],
   "source": [
    "# check the structure of the project directory\n",
    "exec_command(['ls', '..'])"
   ]
  },
  {
   "cell_type": "code",
   "execution_count": 4,
   "metadata": {
    "collapsed": true
   },
   "outputs": [],
   "source": [
    "np.random.seed(3) # set this seed for a device independant consistent behaviour"
   ]
  },
  {
   "cell_type": "code",
   "execution_count": 5,
   "metadata": {
    "collapsed": true
   },
   "outputs": [],
   "source": [
    "''' Set the constants for the script '''\n",
    "\n",
    "# various paths of the files\n",
    "data_path = \"../Data/cifar-10-batches-py\" # the data path\n",
    "train_meta = os.path.join(data_path, \"batches.meta\")\n",
    "base_model_path = '../Models/A-CNN/Cifar'\n",
    "\n",
    "# constant values:\n",
    "im_dim = 32 # the images of size 32 x 32\n",
    "n_channels = 3 # RGB channels\n",
    "highest_pixel_value = 255.0 # 8 bits for every channel. So, max value is 255\n",
    "no_of_epochs = 100 # No. of epochs to run\n",
    "no_of_batches = 5 # There are 5 batches in the dataset\n",
    "checkpoint_factor = 5 # save the model after every 5 steps (epochs)\n",
    "neurons_in_attention_generator = 512\n",
    "num_filters = 64 # The filters will increase in this order\n",
    "batch_size = 32 # The batch size for training\n",
    "lr = 0.01 # The learning rate for optimization"
   ]
  },
  {
   "cell_type": "code",
   "execution_count": 6,
   "metadata": {},
   "outputs": [
    {
     "name": "stdout",
     "output_type": "stream",
     "text": [
      "../Data/cifar-10-batches-py ../Models/A-CNN/Cifar\n"
     ]
    }
   ],
   "source": [
    "print data_path, base_model_path"
   ]
  },
  {
   "cell_type": "code",
   "execution_count": 7,
   "metadata": {},
   "outputs": [
    {
     "name": "stdout",
     "output_type": "stream",
     "text": [
      "batches.meta\n",
      "data_batch_1\n",
      "data_batch_2\n",
      "data_batch_3\n",
      "data_batch_4\n",
      "data_batch_5\n",
      "readme.html\n",
      "test_batch\n",
      "\n"
     ]
    }
   ],
   "source": [
    "# check the contents inside the data folder\n",
    "exec_command(['ls', data_path])"
   ]
  },
  {
   "cell_type": "markdown",
   "metadata": {},
   "source": [
    "### Define the Labels sequence here"
   ]
  },
  {
   "cell_type": "code",
   "execution_count": 8,
   "metadata": {
    "collapsed": true
   },
   "outputs": [],
   "source": [
    "label_names = ['airplane',\n",
    "                'automobile',\n",
    "                'bird',\n",
    "                'cat',\n",
    "                'deer',\n",
    "                'dog',\n",
    "                'frog',\n",
    "                'horse',\n",
    "                'ship',\n",
    "                'truck']"
   ]
  },
  {
   "cell_type": "code",
   "execution_count": 9,
   "metadata": {
    "collapsed": true
   },
   "outputs": [],
   "source": [
    "# also define the number of labels\n",
    "num_labels = len(label_names)"
   ]
  },
  {
   "cell_type": "markdown",
   "metadata": {},
   "source": [
    "# Use the unpickler function from the helpers repository to get the processed data into memory:\n",
    "link to code -> https://github.com/akanimax/machine-learning-helpers/blob/master/pickling_unpickling/pickling_operations.py"
   ]
  },
  {
   "cell_type": "code",
   "execution_count": 10,
   "metadata": {
    "collapsed": true
   },
   "outputs": [],
   "source": [
    "# function to unpickle the given file and load the obj back into the python environment\n",
    "def unPickleIt(pickle_path): # might throw the file not found exception\n",
    "    '''\n",
    "        function to unpickle the object from the given path\n",
    "        @param\n",
    "        pickle_path => the path where the pickle file is located\n",
    "        @return => the object extracted from the saved path\n",
    "    '''\n",
    "\n",
    "    with open(pickle_path, 'rb') as dumped_pickle:\n",
    "        obj = pickle.load(dumped_pickle)\n",
    "\n",
    "    return obj # return the unpickled object\n",
    "\n",
    "# The batch generator function:\n",
    "def generateBatch(batchFile):\n",
    "    '''\n",
    "        The function to generate a batch of data suitable for performing the convNet operations on it\n",
    "        @param batchFile -> the path of the input batchfile\n",
    "        @return batch: (data, labels) -> the processed data.\n",
    "    '''\n",
    "    # unpickle the batch file:\n",
    "    data_dict = unPickleIt(batchFile)\n",
    "    \n",
    "    # extract the data and labels from this dictionary\n",
    "    unprocessed_data = data_dict['data']\n",
    "    integer_labels = np.array(data_dict['labels']) # labels in integer form\n",
    "    \n",
    "    # reshape and rotate the data\n",
    "    data = unprocessed_data.reshape((len(unprocessed_data), im_dim, im_dim, n_channels), order='F')\n",
    "    processed_data = np.array(map(lambda x: np.rot90(x, axes=(1, 0)), data))\n",
    "    \n",
    "    # normalize the images by dividing all the pixels by 255\n",
    "    processed_data = processed_data.astype(np.float32) / 255\n",
    "    \n",
    "    # return the processed data and the encoded_labels:\n",
    "    return (processed_data, integer_labels)"
   ]
  },
  {
   "cell_type": "code",
   "execution_count": 11,
   "metadata": {
    "collapsed": true
   },
   "outputs": [],
   "source": [
    "def get_data():\n",
    "    '''\n",
    "        function to load all the present data in the disk into the RAM.\n",
    "        @param => none\n",
    "        @return => (images, labels)\n",
    "    '''\n",
    "    # extract data for all batches and then stack them together.\n",
    "    data_X = []; data_Y = [] # initialize to empty lists\n",
    "    for batch_number in range(1, no_of_batches + 1):\n",
    "        dat, labs = generateBatch(os.path.join(data_path, \"data_batch_\" + str(batch_number)))\n",
    "\n",
    "        # add the generated data into the data_lists\n",
    "        data_X.append(dat); data_Y.append(labs)\n",
    "\n",
    "    # finally, stack all the data together\n",
    "    data_X = np.concatenate(data_X); data_Y = np.concatenate(data_Y)\n",
    "\n",
    "    return data_X, data_Y"
   ]
  },
  {
   "cell_type": "code",
   "execution_count": 12,
   "metadata": {},
   "outputs": [],
   "source": [
    "train_X, train_Y = get_data()"
   ]
  },
  {
   "cell_type": "code",
   "execution_count": 13,
   "metadata": {},
   "outputs": [
    {
     "name": "stdout",
     "output_type": "stream",
     "text": [
      "Training_images_shape: (50000, 32, 32, 3)\n",
      "Training_labels_shape: (50000,)\n"
     ]
    }
   ],
   "source": [
    "# check the shapes of train_X and train_Y\n",
    "print \"Training_images_shape: \" + str(train_X.shape)\n",
    "print \"Training_labels_shape: \" + str(train_Y.shape)"
   ]
  },
  {
   "cell_type": "markdown",
   "metadata": {},
   "source": [
    "# Create a randomized cell to load an image and display it's label.\n",
    "## Run the following cell multiple times to make sure the data is still sane"
   ]
  },
  {
   "cell_type": "code",
   "execution_count": 14,
   "metadata": {
    "scrolled": true
   },
   "outputs": [
    {
     "data": {
      "image/png": "[encoded data removed]",
      "text/plain": [
       "<matplotlib.figure.Figure at 0x7f5d406a9750>"
      ]
     },
     "metadata": {},
     "output_type": "display_data"
    }
   ],
   "source": [
    "random_index = np.random.randint(train_X.shape[0])\n",
    "random_image = train_X[random_index]\n",
    "label_for_random_image = label_names[train_Y[random_index]]\n",
    "\n",
    "# use plt to display the image\n",
    "plt.figure().suptitle(\"Image label:\" + label_for_random_image)\n",
    "plt.imshow(random_image); # suppress the terminal output"
   ]
  },
  {
   "cell_type": "markdown",
   "metadata": {},
   "source": [
    "# Let's build the Tensorflow computation graph"
   ]
  },
  {
   "cell_type": "markdown",
   "metadata": {},
   "source": [
    "### Use this point to restart the cell running if something goes wrong while creating the graph below"
   ]
  },
  {
   "cell_type": "code",
   "execution_count": 15,
   "metadata": {
    "collapsed": true
   },
   "outputs": [],
   "source": [
    "# reset point for the graph:\n",
    "tf.reset_default_graph()"
   ]
  },
  {
   "cell_type": "markdown",
   "metadata": {},
   "source": [
    "### Define the input placeholders and the one hot label encoder"
   ]
  },
  {
   "cell_type": "code",
   "execution_count": 16,
   "metadata": {
    "collapsed": true
   },
   "outputs": [],
   "source": [
    "# define the placeholders for the input images and their corresponding labels:\n",
    "with tf.variable_scope(\"Input_placeholders\"):\n",
    "    tf_input = tf.placeholder(tf.float32, shape=(None, im_dim, im_dim, n_channels), name=\"Raw_input_images\")\n",
    "    tf_input_summary = tf.summary.image(\"Input_Images\", tf_input, max_outputs=10)\n",
    "    \n",
    "    tf_labels = tf.placeholder(tf.int32, shape=(None,), name=\"Ideal_image_labels\")"
   ]
  },
  {
   "cell_type": "code",
   "execution_count": 17,
   "metadata": {},
   "outputs": [
    {
     "data": {
      "text/plain": [
       "(<tf.Tensor 'Input_placeholders/Raw_input_images:0' shape=(?, 32, 32, 3) dtype=float32>,\n",
       " <tf.Tensor 'Input_placeholders/Ideal_image_labels:0' shape=(?,) dtype=int32>)"
      ]
     },
     "execution_count": 17,
     "metadata": {},
     "output_type": "execute_result"
    }
   ],
   "source": [
    "tf_input, tf_labels"
   ]
  },
  {
   "cell_type": "markdown",
   "metadata": {},
   "source": [
    "### Define the attention generator network"
   ]
  },
  {
   "cell_type": "code",
   "execution_count": 18,
   "metadata": {},
   "outputs": [],
   "source": [
    "with tf.variable_scope(\"Attention_mask_generator\"):\n",
    "    \n",
    "    # apply a few conv layers with ReLU (*Note the usage of ReLU activation function*)\n",
    "    at_lay_1 = tf.layers.conv2d(tf_input, num_filters, kernel_size=(3, 3), padding=\"same\", name=\"attention_layer_1\",\n",
    "                               activation=tf.nn.relu)\n",
    "    \n",
    "    at_lay_2 = tf.layers.conv2d(at_lay_1, num_filters, kernel_size=(5, 5), padding=\"same\", name=\"attention_layer_2\",\n",
    "                               activation=tf.nn.relu)\n",
    "    \n",
    "    at_lay_3 = tf.layers.conv2d(at_lay_2, n_channels, kernel_size=(7, 7), padding=\"same\", name=\"attention_layer_3\",\n",
    "                               activation=tf.nn.relu)\n",
    "    \n",
    "    # The attention mask:\n",
    "    attention_mask = tf.nn.tanh(at_lay_3, name=\"TanH_activation\")"
   ]
  },
  {
   "cell_type": "markdown",
   "metadata": {},
   "source": [
    "### Check the shapes of all the intermediate tensors"
   ]
  },
  {
   "cell_type": "code",
   "execution_count": 19,
   "metadata": {},
   "outputs": [
    {
     "data": {
      "text/plain": [
       "(<tf.Tensor 'Attention_mask_generator/attention_layer_1/Relu:0' shape=(?, 32, 32, 64) dtype=float32>,\n",
       " <tf.Tensor 'Attention_mask_generator/attention_layer_2/Relu:0' shape=(?, 32, 32, 64) dtype=float32>,\n",
       " <tf.Tensor 'Attention_mask_generator/attention_layer_3/Relu:0' shape=(?, 32, 32, 3) dtype=float32>)"
      ]
     },
     "execution_count": 19,
     "metadata": {},
     "output_type": "execute_result"
    }
   ],
   "source": [
    "at_lay_1, at_lay_2, at_lay_3"
   ]
  },
  {
   "cell_type": "code",
   "execution_count": 20,
   "metadata": {},
   "outputs": [
    {
     "data": {
      "text/plain": [
       "<tf.Tensor 'Attention_mask_generator/TanH_activation:0' shape=(?, 32, 32, 3) dtype=float32>"
      ]
     },
     "execution_count": 20,
     "metadata": {},
     "output_type": "execute_result"
    }
   ],
   "source": [
    "attention_mask"
   ]
  },
  {
   "cell_type": "markdown",
   "metadata": {},
   "source": [
    "### Define the Computations for the Attention mechanism"
   ]
  },
  {
   "cell_type": "code",
   "execution_count": 21,
   "metadata": {
    "collapsed": true
   },
   "outputs": [],
   "source": [
    "# use the attention mask to create an attention on the input image\n",
    "with tf.variable_scope(\"Attention_masker\"):\n",
    "    # This is just elementwise multiplication\n",
    "    tf_attention_masked_input = tf.multiply(tf_input, attention_mask)\n",
    "    \n",
    "    # create a summary op on this image to see what the network is focussing it's attention on right now\n",
    "    tf_attention_masked_input_summary = tf.summary.image(\"Attention_Masked_Input\", \n",
    "                                                         tf_attention_masked_input, max_outputs=10)"
   ]
  },
  {
   "cell_type": "code",
   "execution_count": 22,
   "metadata": {},
   "outputs": [
    {
     "data": {
      "text/plain": [
       "<tf.Tensor 'Attention_masker/Mul:0' shape=(?, 32, 32, 3) dtype=float32>"
      ]
     },
     "execution_count": 22,
     "metadata": {},
     "output_type": "execute_result"
    }
   ],
   "source": [
    "tf_attention_masked_input"
   ]
  },
  {
   "cell_type": "markdown",
   "metadata": {},
   "source": [
    "### Use the one hot encoder to encode the avaliable labels"
   ]
  },
  {
   "cell_type": "code",
   "execution_count": 23,
   "metadata": {
    "collapsed": true
   },
   "outputs": [],
   "source": [
    "with tf.variable_scope(\"One_hot_encoder\"):\n",
    "    # one hot encode the input labels\n",
    "    one_hot_encoded_tf_labels = tf.one_hot(tf_labels, depth=num_labels, axis=1, name=\"One_hot_Encode\")"
   ]
  },
  {
   "cell_type": "code",
   "execution_count": 24,
   "metadata": {},
   "outputs": [
    {
     "data": {
      "text/plain": [
       "(<tf.Tensor 'Attention_masker/Mul:0' shape=(?, 32, 32, 3) dtype=float32>,\n",
       " <tf.Tensor 'One_hot_encoder/One_hot_Encode:0' shape=(?, 10) dtype=float32>)"
      ]
     },
     "execution_count": 24,
     "metadata": {},
     "output_type": "execute_result"
    }
   ],
   "source": [
    "# check the dimensions and types of the input placeholder:\n",
    "tf_attention_masked_input, one_hot_encoded_tf_labels"
   ]
  },
  {
   "cell_type": "markdown",
   "metadata": {},
   "source": [
    "### Define the Encoder and decoder functions"
   ]
  },
  {
   "cell_type": "markdown",
   "metadata": {},
   "source": [
    "Define the convolutional encoder for generating the representations from the masked image "
   ]
  },
  {
   "cell_type": "code",
   "execution_count": 25,
   "metadata": {
    "collapsed": true
   },
   "outputs": [],
   "source": [
    "def encode(images, w_reuse=None):\n",
    "    '''\n",
    "        Function to encode the input images into representation vectors\n",
    "        @param \n",
    "        images => tensor containing the input images to be trained on\n",
    "        reuse => Boolean controlling reuse of weights \n",
    "        @return => Encoded_representation_vector\n",
    "    '''\n",
    "    # set a name scope here so that we end up using the same weights and biases for the infernce mode \n",
    "    # and the decoding part:\n",
    "    with tf.name_scope(\"Encoder\"):\n",
    "        \n",
    "        # The low level feature extractors: input of (32 x 32)  running depth of (64)\n",
    "        a1 = tf.layers.conv2d(images, num_filters, kernel_size=(3, 3), \n",
    "                              padding=\"same\", activation=tf.abs, name = \"layer_1\", reuse=w_reuse)\n",
    "        \n",
    "        a2 = tf.layers.conv2d(a1, num_filters, kernel_size=(3, 3), \n",
    "                              padding=\"same\", activation=tf.abs, name = \"layer_2\", reuse=w_reuse)\n",
    "        \n",
    "        a3 = tf.layers.conv2d(a2, num_filters, kernel_size=(3, 3), \n",
    "                              padding=\"same\", activation=tf.abs, name = \"layer_3\", reuse=w_reuse)\n",
    "        \n",
    "        \n",
    "        # The mid level features extractors: input of (32 x 32) running  depth of (128)\n",
    "        a4 = tf.layers.conv2d(a3, (2 * num_filters), kernel_size=(5, 5),\n",
    "                              padding=\"same\", activation=tf.abs, name = \"layer_4\", reuse=w_reuse)\n",
    "        \n",
    "        a5 = tf.layers.conv2d(a4, (2 * num_filters), kernel_size=(5, 5),\n",
    "                              padding=\"same\", activation=tf.abs, name = \"layer_5\", reuse=w_reuse)\n",
    "        \n",
    "        a6 = tf.layers.conv2d(a5, (2 * num_filters), kernel_size=(5, 5), \n",
    "                              padding=\"same\", activation=tf.abs, name = \"layer_6\", reuse=w_reuse)\n",
    "        \n",
    "        \n",
    "        # The high level features extractors: input of (32 x 32) running  depth of (256)\n",
    "        a7 = tf.layers.conv2d(a6, (4 * num_filters), kernel_size=(7, 7), \n",
    "                              padding=\"same\", activation=tf.abs, name = \"layer_7\", reuse=w_reuse)\n",
    "        \n",
    "        a8 = tf.layers.conv2d(a7, (4 * num_filters), kernel_size=(7, 7), \n",
    "                              padding=\"same\", activation=tf.abs, name = \"layer_8\", reuse=w_reuse)\n",
    "        \n",
    "        a9 = tf.layers.conv2d(a8, (4 * num_filters), kernel_size=(7, 7), \n",
    "                              padding=\"same\", activation=tf.abs, name = \"layer_9\", reuse=w_reuse)\n",
    "        \n",
    "        \n",
    "        # The Representation vector creator layers: input of (32 x 32) running  depth of (512)\n",
    "        a10 = tf.layers.conv2d(a9, (8 * num_filters), kernel_size=(8, 8), \n",
    "                              padding=\"same\", activation=tf.abs, name = \"layer_10\", reuse=w_reuse)\n",
    "        \n",
    "        a11 = tf.layers.conv2d(a10, (8 * num_filters), kernel_size=(16, 16), \n",
    "                              padding=\"same\", activation=tf.abs, name = \"layer_11\", reuse=w_reuse)\n",
    "        \n",
    "        a12 = tf.layers.conv2d(a11, num_labels, kernel_size=(32, 32), \n",
    "                              padding=\"valid\", activation=tf.abs, name = \"layer_12\", reuse=w_reuse)\n",
    "        \n",
    "        # obtain the representation vector from the a12 activations by reshaping that tensor\n",
    "        representations = tf.reshape(a12, shape=(-1, num_labels))\n",
    "        \n",
    "    return representations"
   ]
  },
  {
   "cell_type": "markdown",
   "metadata": {},
   "source": [
    "Define the deconvolutional decoder for generating the original image from the representation vector"
   ]
  },
  {
   "cell_type": "code",
   "execution_count": 26,
   "metadata": {
    "collapsed": true
   },
   "outputs": [],
   "source": [
    "def decode(reps, w_reuse=True):\n",
    "    '''\n",
    "        Function to encode the input images into representation vectors\n",
    "        @param \n",
    "        reps => tensor containing the learned representation vectors to be deconvolved\n",
    "        reuse => Boolean controlling reuse of weights \n",
    "        @return => Encoded_representation_vector\n",
    "    '''\n",
    "    with tf.name_scope(\"Decoder\"):\n",
    "        \n",
    "        # reshape representation_vectors into an activation map\n",
    "        deconv_input = tf.reshape(reps, shape=(-1, 1, 1, num_labels))\n",
    "        \n",
    "        # The superficial feature drawers: input of (1 x 1)\n",
    "        a1 = tf.layers.conv2d_transpose(deconv_input, (8 * num_filters), kernel_size=(32, 32), use_bias=False,\n",
    "                              padding=\"valid\", activation=tf.abs, name = \"layer_12\", reuse=w_reuse)\n",
    "        \n",
    "        a2 = tf.layers.conv2d_transpose(a1, (8 * num_filters), kernel_size=(16, 16), use_bias=False,\n",
    "                              padding=\"same\", activation=tf.abs, name = \"layer_11\", reuse=w_reuse)\n",
    "        \n",
    "        a3 = tf.layers.conv2d_transpose(a2, (4 * num_filters), kernel_size=(8, 8), use_bias=False,\n",
    "                              padding=\"same\", activation=tf.abs, name = \"layer_10\", reuse=w_reuse)\n",
    "        \n",
    "        \n",
    "        # The high level feature drawers: input of (32 x 32)\n",
    "        a4 = tf.layers.conv2d_transpose(a3, (4 * num_filters), kernel_size=(7, 7), use_bias=False,\n",
    "                              padding=\"same\", activation=tf.abs, name = \"layer_8\", reuse=w_reuse)\n",
    "        \n",
    "        a5 = tf.layers.conv2d_transpose(a4, (4 * num_filters), kernel_size=(7, 7), use_bias=False,\n",
    "                              padding=\"same\", activation=tf.abs, name = \"layer_9\", reuse=w_reuse)\n",
    "        \n",
    "        a6 = tf.layers.conv2d_transpose(a5, (2 * num_filters), kernel_size=(7, 7), use_bias=False,\n",
    "                              padding=\"same\", activation=tf.abs, name = \"layer_7\", reuse=w_reuse)\n",
    "        \n",
    "        \n",
    "        # The mid level feture drawers: converted input of (32 x 32)\n",
    "        a7 = tf.layers.conv2d_transpose(a6, (2 * num_filters), kernel_size=(5, 5), use_bias=False,\n",
    "                              padding=\"same\", activation=tf.abs, name = \"layer_6\", reuse=w_reuse)\n",
    "        \n",
    "        a8 = tf.layers.conv2d_transpose(a7, (2 * num_filters), kernel_size=(5, 5), use_bias=False,\n",
    "                              padding=\"same\", activation=tf.abs, name = \"layer_5\", reuse=w_reuse)\n",
    "        \n",
    "        a9 = tf.layers.conv2d_transpose(a8, num_filters, kernel_size=(5, 5), use_bias=False,\n",
    "                              padding=\"same\", activation=tf.abs, name = \"layer_4\", reuse=w_reuse)\n",
    "        \n",
    "        \n",
    "        # The lowest (fine details) feature drawers: converted input of (32 x 32)\n",
    "        a10 = tf.layers.conv2d_transpose(a9, num_filters, kernel_size=(3, 3), use_bias=False,\n",
    "                              padding=\"same\", activation=tf.abs, name = \"layer_3\", reuse=w_reuse)\n",
    "        \n",
    "        a11 = tf.layers.conv2d_transpose(a10, num_filters, kernel_size=(3, 3), use_bias=False,\n",
    "                              padding=\"same\", activation=tf.abs, name = \"layer_2\", reuse=w_reuse)\n",
    "        \n",
    "        a12 = tf.layers.conv2d_transpose(a11, n_channels, kernel_size=(3, 3), use_bias=False,\n",
    "                              padding=\"same\", activation=tf.abs, name = \"layer_1\", reuse=w_reuse)\n",
    "        \n",
    "    # return the final generated image to compare it with the original\n",
    "    return a12"
   ]
  },
  {
   "cell_type": "markdown",
   "metadata": {},
   "source": [
    "### Define the functions used for computing the losses"
   ]
  },
  {
   "cell_type": "code",
   "execution_count": 27,
   "metadata": {
    "collapsed": true
   },
   "outputs": [],
   "source": [
    "def directional_cosines(inp):\n",
    "    '''\n",
    "        function to convert input tensor into it's corresponding directional cosine values\n",
    "    '''\n",
    "    with tf.variable_scope(\"Directional_cosines\"):\n",
    "        squared = tf.square(inp) # square all the numbers\n",
    "        denominator = tf.reduce_sum(squared, axis=1, keep_dims=True)\n",
    "        dc = inp / denominator\n",
    "    \n",
    "    # return the directional cosine values\n",
    "    return dc"
   ]
  },
  {
   "cell_type": "code",
   "execution_count": 28,
   "metadata": {
    "collapsed": true
   },
   "outputs": [],
   "source": [
    "def euclidean_distance(tensor1, tensor2):\n",
    "    '''\n",
    "        function to compute the euclidean distances between two tensors\n",
    "        It is assumed that the batch dimension is the first one\n",
    "    '''\n",
    "    with tf.variable_scope(\"Euclidean_distance\"):\n",
    "        diff = tensor1 - tensor2\n",
    "        sqrd_diff = tf.square(diff)\n",
    "        sums = tf.reduce_sum(sqrd_diff, axis=1, keep_dims=True)\n",
    "        distances = tf.sqrt(sums)\n",
    "    \n",
    "    # return the computed euclidean distances:\n",
    "    return distances"
   ]
  },
  {
   "cell_type": "markdown",
   "metadata": {},
   "source": [
    "### Define the Training and Inference Computations"
   ]
  },
  {
   "cell_type": "code",
   "execution_count": 29,
   "metadata": {},
   "outputs": [],
   "source": [
    "with tf.name_scope(\"Training_computations\"):\n",
    "    # obtain the encoded representation vectors:\n",
    "    reps = encode(tf_attention_masked_input)\n",
    "    \n",
    "    # convert the reps to directional cosines\n",
    "    dcs = directional_cosines(reps)\n",
    "    \n",
    "    # send the reps back into the deconv network to obtain the reconstructed image\n",
    "    reverse_maps = decode(reps)\n",
    "    reverse_maps_summary = tf.summary.image(\"Reverse_constructed_image\", reverse_maps, max_outputs=10)"
   ]
  },
  {
   "cell_type": "code",
   "execution_count": 30,
   "metadata": {},
   "outputs": [
    {
     "data": {
      "text/plain": [
       "(<tf.Tensor 'Training_computations/Encoder/Reshape:0' shape=(?, 10) dtype=float32>,\n",
       " <tf.Tensor 'Training_computations/Directional_cosines/div:0' shape=(?, 10) dtype=float32>,\n",
       " <tf.Tensor 'Training_computations/Decoder/layer_1/Abs:0' shape=(?, 32, 32, 3) dtype=float32>)"
      ]
     },
     "execution_count": 30,
     "metadata": {},
     "output_type": "execute_result"
    }
   ],
   "source": [
    "# check the dimensions of all three\n",
    "reps, dcs, reverse_maps"
   ]
  },
  {
   "cell_type": "markdown",
   "metadata": {},
   "source": [
    "### Define the Forward, Backward and the total loss"
   ]
  },
  {
   "cell_type": "code",
   "execution_count": 31,
   "metadata": {
    "collapsed": true
   },
   "outputs": [],
   "source": [
    "with tf.variable_scope(\"Losses\"):\n",
    "    with tf.name_scope(\"forward_loss\"):\n",
    "        fwd_loss = tf.reduce_mean(euclidean_distance(dcs, one_hot_encoded_tf_labels))\n",
    "        fwd_loss_summary = tf.summary.scalar(\"Forward_loss\", fwd_loss)\n",
    "        \n",
    "    with tf.name_scope(\"reverse_loss\"):\n",
    "        # flatten the reverse map and the attention masked input image\n",
    "        flat_reverse_maps = tf.reshape(reverse_maps, shape=(-1, (im_dim * im_dim * n_channels)))\n",
    "        flat_tf_attention_masked_input = tf.reshape(tf_attention_masked_input, \n",
    "                                                    shape=(-1, (im_dim * im_dim * n_channels)))\n",
    "        \n",
    "        bwd_loss = tf.reduce_mean(euclidean_distance(flat_reverse_maps, flat_tf_attention_masked_input))\n",
    "        bwd_loss_summary = tf.summary.scalar(\"Reverse_loss\", bwd_loss)\n",
    "        \n",
    "    with tf.name_scope(\"combined_loss\"):\n",
    "        total_loss = fwd_loss + bwd_loss\n",
    "        total_loss_summary = tf.summary.scalar(\"Total_loss\", total_loss)"
   ]
  },
  {
   "cell_type": "code",
   "execution_count": 32,
   "metadata": {},
   "outputs": [
    {
     "data": {
      "text/plain": [
       "(<tf.Tensor 'Losses/forward_loss/Mean:0' shape=() dtype=float32>,\n",
       " <tf.Tensor 'Losses/reverse_loss/Mean:0' shape=() dtype=float32>,\n",
       " <tf.Tensor 'Losses/combined_loss/add:0' shape=() dtype=float32>)"
      ]
     },
     "execution_count": 32,
     "metadata": {},
     "output_type": "execute_result"
    }
   ],
   "source": [
    "fwd_loss, bwd_loss, total_loss"
   ]
  },
  {
   "cell_type": "markdown",
   "metadata": {},
   "source": [
    "### Define the Inference computations for image generation"
   ]
  },
  {
   "cell_type": "code",
   "execution_count": 33,
   "metadata": {
    "collapsed": true
   },
   "outputs": [],
   "source": [
    "# Inference computations need to be defined only for the reverse image generation module.\n",
    "with tf.name_scope(\"Inference_computations\"):\n",
    "    # define the placeholder to supply for generating the images:\n",
    "    manual_representations = tf.placeholder(tf.float32, shape=(None, num_labels), name=\"Image_generator_input\")\n",
    "    \n",
    "    # obtain the generated image using the decode function\n",
    "    generated_image = decode(manual_representations)"
   ]
  },
  {
   "cell_type": "code",
   "execution_count": 34,
   "metadata": {},
   "outputs": [
    {
     "data": {
      "text/plain": [
       "(<tf.Tensor 'Inference_computations/Image_generator_input:0' shape=(?, 10) dtype=float32>,\n",
       " <tf.Tensor 'Inference_computations/Decoder/layer_1/Abs:0' shape=(?, 32, 32, 3) dtype=float32>)"
      ]
     },
     "execution_count": 34,
     "metadata": {},
     "output_type": "execute_result"
    }
   ],
   "source": [
    "# check the manual_representations and the generated_image dimensions\n",
    "manual_representations, generated_image"
   ]
  },
  {
   "cell_type": "markdown",
   "metadata": {},
   "source": [
    "### Define the optimizer for optimizing the loss"
   ]
  },
  {
   "cell_type": "code",
   "execution_count": 35,
   "metadata": {},
   "outputs": [],
   "source": [
    "with tf.variable_scope(\"Trainer\"):\n",
    "    # define the optimizer to train on:\n",
    "    optimizer = tf.train.AdamOptimizer(learning_rate=lr)\n",
    "    \n",
    "    # define the training_step:\n",
    "    train_step = optimizer.minimize(total_loss)"
   ]
  },
  {
   "cell_type": "markdown",
   "metadata": {},
   "source": [
    "### Define the usual errands"
   ]
  },
  {
   "cell_type": "code",
   "execution_count": 36,
   "metadata": {
    "collapsed": true
   },
   "outputs": [],
   "source": [
    "with tf.variable_scope(\"Errands\"):\n",
    "    init = tf.global_variables_initializer()\n",
    "    all_summaries = tf.summary.merge_all()"
   ]
  },
  {
   "cell_type": "markdown",
   "metadata": {},
   "source": [
    "# Use a fake session and check if the graph is properly wired using the tensorboard visualizer"
   ]
  },
  {
   "cell_type": "code",
   "execution_count": 37,
   "metadata": {},
   "outputs": [
    {
     "data": {
      "text/plain": [
       "'../Models/A-CNN/Cifar/Model1'"
      ]
     },
     "execution_count": 37,
     "metadata": {},
     "output_type": "execute_result"
    }
   ],
   "source": [
    "model_name = \"Model1\"\n",
    "log_dir = os.path.join(base_model_path, model_name)\n",
    "log_dir"
   ]
  },
  {
   "cell_type": "markdown",
   "metadata": {},
   "source": [
    "## Make sure the folder Model1 is empty before executing the following cell, otherwise, it will create duplicate event files and will cause tensorboard to raise warnings.\n",
    "-------------------------------------------------------------------------------------------------------------------\n",
    "## I also print out all the trainable variables in the graph to be sure that during inference also, we use the trained variables and not some newly created ones."
   ]
  },
  {
   "cell_type": "code",
   "execution_count": 38,
   "metadata": {
    "scrolled": true
   },
   "outputs": [
    {
     "name": "stdout",
     "output_type": "stream",
     "text": [
      "Attention_mask_generator/attention_layer_1/kernel:0\n",
      "Attention_mask_generator/attention_layer_1/bias:0\n",
      "Attention_mask_generator/attention_layer_2/kernel:0\n",
      "Attention_mask_generator/attention_layer_2/bias:0\n",
      "Attention_mask_generator/attention_layer_3/kernel:0\n",
      "Attention_mask_generator/attention_layer_3/bias:0\n",
      "layer_1/kernel:0\n",
      "layer_1/bias:0\n",
      "layer_2/kernel:0\n",
      "layer_2/bias:0\n",
      "layer_3/kernel:0\n",
      "layer_3/bias:0\n",
      "layer_4/kernel:0\n",
      "layer_4/bias:0\n",
      "layer_5/kernel:0\n",
      "layer_5/bias:0\n",
      "layer_6/kernel:0\n",
      "layer_6/bias:0\n",
      "layer_7/kernel:0\n",
      "layer_7/bias:0\n",
      "layer_8/kernel:0\n",
      "layer_8/bias:0\n",
      "layer_9/kernel:0\n",
      "layer_9/bias:0\n",
      "layer_10/kernel:0\n",
      "layer_10/bias:0\n",
      "layer_11/kernel:0\n",
      "layer_11/bias:0\n",
      "layer_12/kernel:0\n",
      "layer_12/bias:0\n"
     ]
    }
   ],
   "source": [
    "with tf.Session() as sess:\n",
    "    tensorboard_writer = tf.summary.FileWriter(logdir=log_dir, graph=sess.graph, filename_suffix=\".bot\")\n",
    "    \n",
    "    # initialize the session to generate the visualization file\n",
    "    sess.run(init)\n",
    "    \n",
    "    tvars = tf.trainable_variables()\n",
    "    tvars_vals = sess.run(tvars)\n",
    "    \n",
    "    for var, val in zip(tvars, tvars_vals):\n",
    "        print(var.name)"
   ]
  },
  {
   "cell_type": "markdown",
   "metadata": {},
   "source": [
    "# We can now write the session Code for training this graph"
   ]
  },
  {
   "cell_type": "markdown",
   "metadata": {},
   "source": [
    "## The training loop for this hybrid model:"
   ]
  },
  {
   "cell_type": "code",
   "execution_count": 39,
   "metadata": {},
   "outputs": [
    {
     "name": "stdout",
     "output_type": "stream",
     "text": [
      "../Models/A-CNN/Cifar/Model1/Model1\n"
     ]
    }
   ],
   "source": [
    "model_path = log_dir\n",
    "print os.path.join(model_path, model_name)"
   ]
  },
  {
   "cell_type": "code",
   "execution_count": null,
   "metadata": {},
   "outputs": [
    {
     "name": "stdout",
     "output_type": "stream",
     "text": [
      "50000\n"
     ]
    }
   ],
   "source": [
    "num_train_examples = train_X.shape[0]\n",
    "print num_train_examples"
   ]
  },
  {
   "cell_type": "code",
   "execution_count": null,
   "metadata": {
    "scrolled": true
   },
   "outputs": [
    {
     "name": "stdout",
     "output_type": "stream",
     "text": [
      "epoch: 1\n",
      "=================================================================================================\n",
      "=================================================================================================\n",
      "range:(0, 32) loss= 70.1889343262\n"
     ]
    }
   ],
   "source": [
    "''' \n",
    "    WARNING WARNING WARNING!!! This is the main training cell.\n",
    "    This cell will take a really really long time on low-end machines. It will however not crash your pc, since \n",
    "    I have bootstrapped the training in such a way that it loads a small chunk of data at a time to train.\n",
    "'''\n",
    "\n",
    "with tf.Session() as sess:\n",
    "    saver = tf.train.Saver(max_to_keep=2)\n",
    "    \n",
    "    if(os.path.isfile(os.path.join(model_path, \"checkpoint\"))):\n",
    "        # load the weights from the model1\n",
    "        # instead of global variable initializer, restore the graph:\n",
    "        saver.restore(sess, tf.train.latest_checkpoint(model_path))\n",
    "    \n",
    "    else:\n",
    "        # initialize all the variables\n",
    "        sess.run(tf.global_variables_initializer())\n",
    "    \n",
    "    g_step = 0\n",
    "    for ep in range(no_of_epochs):  # epochs loop\n",
    "        \n",
    "        print \"epoch: \" + str(ep + 1)\n",
    "        print \"=================================================================================================\"\n",
    "        print \"=================================================================================================\"\n",
    "        \n",
    "            \n",
    "        for index in range(int(np.ceil(float(num_train_examples) / batch_size))):\n",
    "            start = index * batch_size\n",
    "            end = start + batch_size\n",
    "            minX = train_X[start: end]; minY = train_Y[start: end]\n",
    "                \n",
    "            _, loss = sess.run([train_step, total_loss], feed_dict={tf_input: minX, tf_labels: minY})\n",
    "                \n",
    "            if(index % 3 == 0):\n",
    "                print('range:{} loss= {}'.format((start, start + len(minX)), loss))\n",
    "            \n",
    "            g_step += 1\n",
    "                \n",
    "        print \"\\n=========================================================================================\\n\"\n",
    "        \n",
    "        if((ep + 1) % checkpoint_factor == 0 or ep == 0):\n",
    "            \n",
    "            # calculate the summaries:\n",
    "            sums = sess.run(all_summaries, feed_dict={tf_input: minX, tf_labels: minY})\n",
    "            \n",
    "            # add the summaries to the fileWriter\n",
    "            tensorboard_writer.add_summary(sums, global_step = g_step)\n",
    "            \n",
    "            # save the model trained so far:\n",
    "            saver.save(sess, os.path.join(model_path, model_name), global_step = (ep + 1))\n",
    "        \n",
    "    print \"=================================================================================================\"\n",
    "    print \"=================================================================================================\""
   ]
  }
 ],
 "metadata": {
  "kernelspec": {
   "display_name": "Python 2",
   "language": "python",
   "name": "python2"
  },
  "language_info": {
   "codemirror_mode": {
    "name": "ipython",
    "version": 2
   },
   "file_extension": ".py",
   "mimetype": "text/x-python",
   "name": "python",
   "nbconvert_exporter": "python",
   "pygments_lexer": "ipython2",
   "version": "2.7.13"
  }
 },
 "nbformat": 4,
 "nbformat_minor": 2
}
